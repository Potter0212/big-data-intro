{
 "cells": [
  {
   "cell_type": "code",
   "execution_count": 1,
   "id": "3f40f2eb-0bc1-426e-93bc-5b46c53c8474",
   "metadata": {},
   "outputs": [],
   "source": [
    "from pyspark.sql import SparkSession\n",
    "spark = SparkSession.builder.master('local').appName('hw_udf').getOrCreate()"
   ]
  },
  {
   "cell_type": "code",
   "execution_count": 7,
   "id": "81767941-ee42-481a-8a99-aff7100583b8",
   "metadata": {},
   "outputs": [],
   "source": [
    "name = [\n",
    "    ('안현',39),\n",
    "    ('김성식',25),\n",
    "    ('박수민',67),\n",
    "    ('유지성',35),\n",
    "    ('박성빈',45),\n",
    "    ('김수태',72),\n",
    "    ('민수성',23),\n",
    "    ('박태민',42),\n",
    "    ('안태수',55),\n",
    "    ('김태민',83)\n",
    "]"
   ]
  },
  {
   "cell_type": "code",
   "execution_count": 12,
   "id": "a4897971-9d4d-4bc5-aacb-d3c7621cfc84",
   "metadata": {},
   "outputs": [],
   "source": [
    "schema = ['name','age']"
   ]
  },
  {
   "cell_type": "code",
   "execution_count": 13,
   "id": "8173bfa4-82da-47e1-9943-e662d817737a",
   "metadata": {},
   "outputs": [],
   "source": [
    "df = spark.createDataFrame(name, schema)"
   ]
  },
  {
   "cell_type": "code",
   "execution_count": 14,
   "id": "c29e8c09-0e29-4000-a676-ae0dd4a1e879",
   "metadata": {},
   "outputs": [
    {
     "name": "stdout",
     "output_type": "stream",
     "text": [
      "+------+---+\n",
      "|  name|age|\n",
      "+------+---+\n",
      "|  안현| 39|\n",
      "|김성식| 25|\n",
      "|박수민| 67|\n",
      "|유지성| 35|\n",
      "|박성빈| 45|\n",
      "|김수태| 72|\n",
      "|민수성| 23|\n",
      "|박태민| 42|\n",
      "|안태수| 55|\n",
      "|김태민| 83|\n",
      "+------+---+\n",
      "\n"
     ]
    }
   ],
   "source": [
    "df.show()"
   ]
  },
  {
   "cell_type": "code",
   "execution_count": 15,
   "id": "58d377fd-3973-4456-9f4f-40d3bd8339c1",
   "metadata": {},
   "outputs": [
    {
     "name": "stdout",
     "output_type": "stream",
     "text": [
      "root\n",
      " |-- name: string (nullable = true)\n",
      " |-- age: long (nullable = true)\n",
      "\n"
     ]
    }
   ],
   "source": [
    "df.printSchema()"
   ]
  },
  {
   "cell_type": "code",
   "execution_count": 21,
   "id": "0dacd784-b404-4a7a-8edd-66771c166e30",
   "metadata": {},
   "outputs": [],
   "source": [
    "df.createOrReplaceTempView('names')"
   ]
  },
  {
   "cell_type": "code",
   "execution_count": 22,
   "id": "a689dc30-2682-455d-b157-f6172ec69e41",
   "metadata": {},
   "outputs": [],
   "source": [
    "def age_category(age):\n",
    "    if age < 35:\n",
    "        return 'young'\n",
    "    elif age < 60:\n",
    "        return 'senior'\n",
    "    else:\n",
    "        return 'adult'"
   ]
  },
  {
   "cell_type": "code",
   "execution_count": 24,
   "id": "bbfa24c3-7850-4aa2-993c-132b3e90ef3f",
   "metadata": {},
   "outputs": [
    {
     "data": {
      "text/plain": [
       "<function __main__.age_category(age)>"
      ]
     },
     "execution_count": 24,
     "metadata": {},
     "output_type": "execute_result"
    }
   ],
   "source": [
    "spark.udf.register('age_category', age_category)"
   ]
  },
  {
   "cell_type": "code",
   "execution_count": 28,
   "id": "5b5ff1f7-ce73-4f32-b85b-06d9266c585f",
   "metadata": {},
   "outputs": [
    {
     "name": "stdout",
     "output_type": "stream",
     "text": [
      "+------+-----------------+\n",
      "|  name|age_category(age)|\n",
      "+------+-----------------+\n",
      "|  안현|           senior|\n",
      "|김성식|            young|\n",
      "|박수민|            adult|\n",
      "|유지성|           senior|\n",
      "|박성빈|           senior|\n",
      "|김수태|            adult|\n",
      "|민수성|            young|\n",
      "|박태민|           senior|\n",
      "|안태수|           senior|\n",
      "|김태민|            adult|\n",
      "+------+-----------------+\n",
      "\n"
     ]
    }
   ],
   "source": [
    "spark.sql(\n",
    "    \"SELECT name, \\\n",
    "    age_category(age) \\\n",
    "    FROM name\").show()"
   ]
  },
  {
   "cell_type": "code",
   "execution_count": null,
   "id": "f3c77ce8-31d4-472b-9572-8cbd7ca3b2f3",
   "metadata": {},
   "outputs": [],
   "source": []
  }
 ],
 "metadata": {
  "kernelspec": {
   "display_name": "Python 3 (ipykernel)",
   "language": "python",
   "name": "python3"
  },
  "language_info": {
   "codemirror_mode": {
    "name": "ipython",
    "version": 3
   },
   "file_extension": ".py",
   "mimetype": "text/x-python",
   "name": "python",
   "nbconvert_exporter": "python",
   "pygments_lexer": "ipython3",
   "version": "3.9.13"
  }
 },
 "nbformat": 4,
 "nbformat_minor": 5
}
